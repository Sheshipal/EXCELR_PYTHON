{
  "nbformat": 4,
  "nbformat_minor": 0,
  "metadata": {
    "colab": {
      "name": "day6.ipynb",
      "provenance": []
    },
    "kernelspec": {
      "name": "python3",
      "display_name": "Python 3"
    }
  },
  "cells": [
    {
      "cell_type": "markdown",
      "metadata": {
        "id": "Z_vn9s6yAPaW",
        "colab_type": "text"
      },
      "source": [
        "File Handling Techniques\n"
      ]
    },
    {
      "cell_type": "code",
      "metadata": {
        "id": "QJGGRY9DAfV9",
        "colab_type": "code",
        "colab": {
          "base_uri": "https://localhost:8080/",
          "height": 35
        },
        "outputId": "05bdf1a1-1e1a-4bbd-85ac-3f5f9157bcf0"
      },
      "source": [
        "from google.colab import drive\n",
        "drive.mount('/gdrive')"
      ],
      "execution_count": null,
      "outputs": [
        {
          "output_type": "stream",
          "text": [
            "Mounted at /gdrive\n"
          ],
          "name": "stdout"
        }
      ]
    },
    {
      "cell_type": "code",
      "metadata": {
        "id": "Jg81urGCAfUU",
        "colab_type": "code",
        "colab": {
          "base_uri": "https://localhost:8080/",
          "height": 35
        },
        "outputId": "216b306a-c526-4442-be0f-51da649778d1"
      },
      "source": [
        "with open('/gdrive/My Drive/foo.txt', 'w') as f:\n",
        "  f.write('Hello Google Drive!')\n",
        "!cat '/gdrive/My Drive/foo.txt'"
      ],
      "execution_count": null,
      "outputs": [
        {
          "output_type": "stream",
          "text": [
            "Hello Google Drive!"
          ],
          "name": "stdout"
        }
      ]
    },
    {
      "cell_type": "markdown",
      "metadata": {
        "id": "2NwV91wuD6p7",
        "colab_type": "text"
      },
      "source": [
        "Reading a file"
      ]
    },
    {
      "cell_type": "code",
      "metadata": {
        "id": "sR9LYR3uAnBv",
        "colab_type": "code",
        "colab": {
          "base_uri": "https://localhost:8080/",
          "height": 35
        },
        "outputId": "fdb2a486-7d8a-404d-986f-8bef22136cf0"
      },
      "source": [
        "fobj = open(\"/gdrive/My Drive/foo.txt\")\n",
        "data = fobj.read()\n",
        "fobj.close()\n",
        "print(data)"
      ],
      "execution_count": null,
      "outputs": [
        {
          "output_type": "stream",
          "text": [
            "hello buddyhello buddy\n"
          ],
          "name": "stdout"
        }
      ]
    },
    {
      "cell_type": "markdown",
      "metadata": {
        "id": "4zQC5u_6EJQ3",
        "colab_type": "text"
      },
      "source": [
        "Writing a file"
      ]
    },
    {
      "cell_type": "code",
      "metadata": {
        "id": "eREl-6KaBiqO",
        "colab_type": "code",
        "colab": {
          "base_uri": "https://localhost:8080/",
          "height": 90
        },
        "outputId": "c18c288c-c87a-4fd4-f74a-6884bf73da1e"
      },
      "source": [
        "fobj = open(\"/gdrive/My Drive/foo.txt\", 'w')\n",
        "# write method returns the number of charecters written into the file\n",
        "data = fobj.write('hello buddy\\n')\n",
        "fobj.close()\n",
        "print(data)\n",
        "# if we try to open the file which is already present in write mode then the previously available content of that \n",
        "# file will be earised \n",
        "\n",
        "\n",
        "print('opening the file after the writing is finished')\n",
        "fobj = open(\"/gdrive/My Drive/foo.txt\")\n",
        "data = fobj.read()\n",
        "fobj.close()\n",
        "print(data)"
      ],
      "execution_count": null,
      "outputs": [
        {
          "output_type": "stream",
          "text": [
            "12\n",
            "opening the file after the writing is finished\n",
            "hello buddy\n",
            "\n"
          ],
          "name": "stdout"
        }
      ]
    },
    {
      "cell_type": "markdown",
      "metadata": {
        "id": "z38zspYBFyRL",
        "colab_type": "text"
      },
      "source": [
        "Appending data to a file"
      ]
    },
    {
      "cell_type": "code",
      "metadata": {
        "id": "x2TQ_3j7BkyH",
        "colab_type": "code",
        "colab": {
          "base_uri": "https://localhost:8080/",
          "height": 109
        },
        "outputId": "34fd8a66-8c6a-4999-ba2c-8c3a5256ee37"
      },
      "source": [
        "fobj = open(\"/gdrive/My Drive/foo.txt\", 'a')\n",
        "data = fobj.write('hello buddy\\n')\n",
        "fobj.close()\n",
        "print(data)\n",
        "\n",
        "print('opening the file after the writing is finished')\n",
        "fobj = open(\"/gdrive/My Drive/foo.txt\")\n",
        "data = fobj.read()\n",
        "fobj.close()\n",
        "print(data)"
      ],
      "execution_count": null,
      "outputs": [
        {
          "output_type": "stream",
          "text": [
            "12\n",
            "opening the file after the writing is finished\n",
            "hello buddy\n",
            "hello buddy\n",
            "\n"
          ],
          "name": "stdout"
        }
      ]
    },
    {
      "cell_type": "markdown",
      "metadata": {
        "id": "yxsTlOUqGCqx",
        "colab_type": "text"
      },
      "source": [
        "Opening a file in read and write mode"
      ]
    },
    {
      "cell_type": "code",
      "metadata": {
        "id": "DmZ5n8vVFpaU",
        "colab_type": "code",
        "colab": {}
      },
      "source": [
        "fobj = open(\"/gdrive/My Drive/foo.txt\", 'r+')\n",
        "data = fobj.read()\n",
        "fobj.write('new line is added\\n')\n",
        "fobj.close()"
      ],
      "execution_count": null,
      "outputs": []
    },
    {
      "cell_type": "code",
      "metadata": {
        "id": "i3TKwdb0GkT7",
        "colab_type": "code",
        "colab": {
          "base_uri": "https://localhost:8080/",
          "height": 127
        },
        "outputId": "22654711-3810-4453-9605-d2bd031bf776"
      },
      "source": [
        "# we can also open a file using 'with'\n",
        "# the line which is starting with 'with' is called as context manager\n",
        "# if we use the 'with' keyword the file will be closed automatically when we move out of the 'with' scope\n",
        "\n",
        "with open(\"/gdrive/My Drive/foo.txt\", 'r') as fobj:\n",
        "  data = fobj.read()\n",
        "  data1 = fobj.read()\n",
        "  print(data)\n",
        "  print(data1)\n",
        "\n",
        "# below statement is used to check the status\n",
        "fobj.closed"
      ],
      "execution_count": null,
      "outputs": [
        {
          "output_type": "stream",
          "text": [
            "hello buddy\n",
            "hello buddy\n",
            "new line is added\n",
            "\n",
            "\n"
          ],
          "name": "stdout"
        },
        {
          "output_type": "execute_result",
          "data": {
            "text/plain": [
              "True"
            ]
          },
          "metadata": {
            "tags": []
          },
          "execution_count": 30
        }
      ]
    },
    {
      "cell_type": "code",
      "metadata": {
        "id": "rb6oqW2JJg96",
        "colab_type": "code",
        "colab": {
          "base_uri": "https://localhost:8080/",
          "height": 127
        },
        "outputId": "ff752571-6d34-43e9-9ee0-5f552e683286"
      },
      "source": [
        "# to read a file line by line\n",
        "with open(\"/gdrive/My Drive/foo.txt\", 'r') as fobj:\n",
        "  for line in fobj:\n",
        "    print(line)"
      ],
      "execution_count": null,
      "outputs": [
        {
          "output_type": "stream",
          "text": [
            "hello buddy\n",
            "\n",
            "hello buddy\n",
            "\n",
            "new line is added\n",
            "\n"
          ],
          "name": "stdout"
        }
      ]
    },
    {
      "cell_type": "code",
      "metadata": {
        "id": "iV9uqeBlM0_c",
        "colab_type": "code",
        "colab": {
          "base_uri": "https://localhost:8080/",
          "height": 54
        },
        "outputId": "9ae63082-bbfe-45be-f411-85c086d44e08"
      },
      "source": [
        "# to read all the lines at a time in the form of a list \n",
        "with open(\"/gdrive/My Drive/foo.txt\", 'r') as fobj:\n",
        "  data = fobj.readlines()\n",
        "  print(data)\n",
        "\n",
        "# another method\n",
        "with open(\"/gdrive/My Drive/foo.txt\", 'r') as fobj:\n",
        "  data = list(fobj)\n",
        "  print(data)\n"
      ],
      "execution_count": null,
      "outputs": [
        {
          "output_type": "stream",
          "text": [
            "['hello buddy\\n', 'hello buddy\\n', 'new line is added\\n']\n",
            "['hello buddy\\n', 'hello buddy\\n', 'new line is added\\n']\n"
          ],
          "name": "stdout"
        }
      ]
    },
    {
      "cell_type": "code",
      "metadata": {
        "id": "9DgRqzJNN6nV",
        "colab_type": "code",
        "colab": {
          "base_uri": "https://localhost:8080/",
          "height": 127
        },
        "outputId": "752523ce-243c-4b40-92bd-cf954590b2b3"
      },
      "source": [
        "# to know the position of a pointer in a file \n",
        "with open(\"/gdrive/My Drive/foo.txt\", 'r') as fobj:\n",
        "  for line in fobj:\n",
        "    print(line)"
      ],
      "execution_count": null,
      "outputs": [
        {
          "output_type": "stream",
          "text": [
            "hello buddy\n",
            "\n",
            "hello buddy\n",
            "\n",
            "new line is added\n",
            "\n"
          ],
          "name": "stdout"
        }
      ]
    },
    {
      "cell_type": "code",
      "metadata": {
        "id": "CdjV3ULdRVMP",
        "colab_type": "code",
        "colab": {
          "base_uri": "https://localhost:8080/",
          "height": 35
        },
        "outputId": "82e5ca1b-45e8-4c54-dc61-126d3c43b4e7"
      },
      "source": [
        "# we can also store data by serialization and deserialization using json and pickle builtin libraries to transfer data\n",
        "# with json we can store only list and dict\n",
        "\n",
        "import json\n",
        "\n",
        "a = ['hello', 'hai', 'bye'] \n",
        "with open(\"a.json\",\"w\") as fileobj:\n",
        "  json.dump(a,fileobj)\n",
        "\n",
        "with open('a.json','r') as fileobj:\n",
        "  print(json.load(fileobj))\n"
      ],
      "execution_count": null,
      "outputs": [
        {
          "output_type": "stream",
          "text": [
            "['hello', 'hai', 'bye']\n"
          ],
          "name": "stdout"
        }
      ]
    },
    {
      "cell_type": "code",
      "metadata": {
        "id": "Pgq-nAipU9C4",
        "colab_type": "code",
        "colab": {
          "base_uri": "https://localhost:8080/",
          "height": 35
        },
        "outputId": "b12551fb-e1c6-41b6-85fa-8834eec0ee36"
      },
      "source": [
        "# we can store any type of objects with the help of pickle but it not secure\n",
        "# using pickle we can store the data in binary format\n",
        "\n",
        "import pickle\n",
        "\n",
        "a = ['hello', 'hai', 'bye'] \n",
        "with open(\"a.pickle\",'wb') as fileobj:\n",
        "  pickle.dump(a,fileobj)\n",
        "\n",
        "with open(\"a.pickle\",'rb') as fileobj:\n",
        "  print(pickle.load(fileobj))\n"
      ],
      "execution_count": null,
      "outputs": [
        {
          "output_type": "stream",
          "text": [
            "['hello', 'hai', 'bye']\n"
          ],
          "name": "stdout"
        }
      ]
    },
    {
      "cell_type": "code",
      "metadata": {
        "id": "rNdq-KOdZA8b",
        "colab_type": "code",
        "colab": {}
      },
      "source": [
        ""
      ],
      "execution_count": null,
      "outputs": []
    }
  ]
}