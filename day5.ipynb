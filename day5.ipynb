{
  "nbformat": 4,
  "nbformat_minor": 0,
  "metadata": {
    "colab": {
      "name": "day5.ipynb",
      "provenance": []
    },
    "kernelspec": {
      "name": "python3",
      "display_name": "Python 3"
    }
  },
  "cells": [
    {
      "cell_type": "markdown",
      "metadata": {
        "id": "8I-lDXkq7Q2T",
        "colab_type": "text"
      },
      "source": [
        "Functions "
      ]
    },
    {
      "cell_type": "code",
      "metadata": {
        "id": "PYlO7xLJ4YPO",
        "colab_type": "code",
        "colab": {
          "base_uri": "https://localhost:8080/",
          "height": 35
        },
        "outputId": "4a73588e-b03d-48e2-b027-961e28b6b6c2"
      },
      "source": [
        "def hello():\n",
        "  print(\"hello function\")\n",
        "hello()"
      ],
      "execution_count": null,
      "outputs": [
        {
          "output_type": "stream",
          "text": [
            "hello function\n"
          ],
          "name": "stdout"
        }
      ]
    },
    {
      "cell_type": "code",
      "metadata": {
        "id": "TTZp2kOQ7L5A",
        "colab_type": "code",
        "colab": {
          "base_uri": "https://localhost:8080/",
          "height": 90
        },
        "outputId": "ec174154-a468-4ac8-f600-c30ade2dc7b1"
      },
      "source": [
        "## when we pass arguments to a function there we are using call by value but the value is refered to an object not the value \n",
        "## so it is better to call it as call by object reference..\n",
        "\n",
        "def fun1(passer):\n",
        "  print(id(passer))\n",
        "  passer.append('nhg')\n",
        "def fun2(funner):\n",
        "  print(id(funner))\n",
        "  funner.append('nhg')\n",
        "  fun1(funner)\n",
        "lister = [1,2,3]\n",
        "fun2(lister)\n",
        "print(id(lister))\n",
        "print(lister)"
      ],
      "execution_count": null,
      "outputs": [
        {
          "output_type": "stream",
          "text": [
            "140364159572616\n",
            "140364159572616\n",
            "140364159572616\n",
            "[1, 2, 3, 'nhg', 'nhg']\n"
          ],
          "name": "stdout"
        }
      ]
    },
    {
      "cell_type": "code",
      "metadata": {
        "id": "ysSPhXuI9lfI",
        "colab_type": "code",
        "colab": {
          "base_uri": "https://localhost:8080/",
          "height": 54
        },
        "outputId": "f3fb675e-6fab-4303-e36f-7e069230d888"
      },
      "source": [
        "# default arguments\n",
        "# **while defining a function non default arguments should be defined first \n",
        "def default_arg_function(var2,var1 = 'hello'):\n",
        "  print(var1, var2)\n",
        "\n",
        "default_arg_function('hai')\n",
        "default_arg_function('buddy', 'bye')"
      ],
      "execution_count": null,
      "outputs": [
        {
          "output_type": "stream",
          "text": [
            "hello hai\n",
            "bye buddy\n"
          ],
          "name": "stdout"
        }
      ]
    },
    {
      "cell_type": "code",
      "metadata": {
        "id": "FtUCoMcQ_vLO",
        "colab_type": "code",
        "colab": {
          "base_uri": "https://localhost:8080/",
          "height": 35
        },
        "outputId": "007b3632-7de0-48bd-cb62-5224a7b10e63"
      },
      "source": [
        "## ** default values are defined at the point of defining function only in case of immutable objects **\n",
        "\n",
        "i = 5\n",
        "\n",
        "def f(arg=i):\n",
        "    print(arg)\n",
        "\n",
        "i = 6\n",
        "f()"
      ],
      "execution_count": null,
      "outputs": [
        {
          "output_type": "stream",
          "text": [
            "5\n"
          ],
          "name": "stdout"
        }
      ]
    },
    {
      "cell_type": "code",
      "metadata": {
        "id": "R1KwpdcxBaJA",
        "colab_type": "code",
        "colab": {
          "base_uri": "https://localhost:8080/",
          "height": 72
        },
        "outputId": "cfc7a514-dcef-4df4-9d64-abf36b4fbf93"
      },
      "source": [
        "## ** if the default argument is mutable then the mutable objects can ACCUMLATE the values **\n",
        "\n",
        "def f(a, L=[]):\n",
        "    L.append(a)\n",
        "    return L\n",
        "\n",
        "print(f(1))\n",
        "print(f(2))\n",
        "print(f(3))\n"
      ],
      "execution_count": null,
      "outputs": [
        {
          "output_type": "stream",
          "text": [
            "[1]\n",
            "[1, 2]\n",
            "[1, 2, 3]\n"
          ],
          "name": "stdout"
        }
      ]
    },
    {
      "cell_type": "code",
      "metadata": {
        "id": "WV3g5NfjBzo0",
        "colab_type": "code",
        "colab": {
          "base_uri": "https://localhost:8080/",
          "height": 72
        },
        "outputId": "087cd4d2-1000-4e30-cf05-e65fb28db605"
      },
      "source": [
        "## ** if we dont want to share the mutable objects in the future calls then we have to follow the below code **\n",
        "\n",
        "def f(a, L=None):\n",
        "    if L is None:\n",
        "        L = []\n",
        "    L.append(a)\n",
        "    return L\n",
        "\n",
        "print(f(1))\n",
        "print(f(2))\n",
        "print(f(3))"
      ],
      "execution_count": null,
      "outputs": [
        {
          "output_type": "stream",
          "text": [
            "[1]\n",
            "[2]\n",
            "[3]\n"
          ],
          "name": "stdout"
        }
      ]
    },
    {
      "cell_type": "markdown",
      "metadata": {
        "id": "POZfHhNyFERS",
        "colab_type": "text"
      },
      "source": [
        "Keyword Arguments"
      ]
    },
    {
      "cell_type": "code",
      "metadata": {
        "id": "wju2_troFBDq",
        "colab_type": "code",
        "colab": {
          "base_uri": "https://localhost:8080/",
          "height": 54
        },
        "outputId": "ac43c916-83f4-40a1-f8a9-65741469124e"
      },
      "source": [
        "def keyword_arg_function(var1, var2= 'hello', var3 = 'hai'):\n",
        "  print(var1,var2,var3)\n",
        "\n",
        "# ** we can define keyword arguments in any order but the positional arguments should be specified first \n",
        "keyword_arg_function('buddy', var3= 'humma', var2 = 'yaar')\n",
        "\n",
        "# ** we can positional arguments as keyword arguments also in that case we can pass the arguments in any order\n",
        "keyword_arg_function(var3= 'humma', var2 = 'yaar', var1 = 'dosth')"
      ],
      "execution_count": null,
      "outputs": [
        {
          "output_type": "stream",
          "text": [
            "buddy yaar humma\n",
            "dosth yaar humma\n"
          ],
          "name": "stdout"
        }
      ]
    },
    {
      "cell_type": "code",
      "metadata": {
        "id": "iqEDdDi0T-mj",
        "colab_type": "code",
        "colab": {
          "base_uri": "https://localhost:8080/",
          "height": 109
        },
        "outputId": "e520a9fa-3f52-4724-b156-79659ff7db92"
      },
      "source": [
        "# ** we can pass multiple arguments as parameters by converting them into a tuple by using a prefix '*' \n",
        "def multiple_arguments(name, *arguments):\n",
        "  print(name)\n",
        "  print(arguments)\n",
        "  for arg in arguments:\n",
        "    print(arg)\n",
        "\n",
        "multiple_arguments('shashi', 'hello', 'buddy', 'hai')"
      ],
      "execution_count": null,
      "outputs": [
        {
          "output_type": "stream",
          "text": [
            "shashi\n",
            "('hello', 'buddy', 'hai')\n",
            "hello\n",
            "buddy\n",
            "hai\n"
          ],
          "name": "stdout"
        }
      ]
    },
    {
      "cell_type": "code",
      "metadata": {
        "id": "M8j4X5xoWzSy",
        "colab_type": "code",
        "colab": {
          "base_uri": "https://localhost:8080/",
          "height": 109
        },
        "outputId": "76d2811d-da4c-402c-fcb1-d1d35dd35bc5"
      },
      "source": [
        "# ** we can provide multiple keyword arguments as parameters by converting them into a dictionary by using a prefix '**'\n",
        "\n",
        "# ** but always positional arguments should be followed by tuple arguments that should be followed by keyword arguments **\n",
        "def multiple_keyword_arguments(name,*arguments, **keywordargs):\n",
        "  print(name)\n",
        "  print(arguments)\n",
        "  print(keywordargs)\n",
        "  for kw in keywordargs:\n",
        "    print(kw + ':' +keywordargs[kw])\n",
        "\n",
        "\n",
        "multiple_keyword_arguments('shashi', 'hello', 'buddy', 'hai', send_off ='bye_bye', welcome = 'welcome_all')"
      ],
      "execution_count": null,
      "outputs": [
        {
          "output_type": "stream",
          "text": [
            "shashi\n",
            "('hello', 'buddy', 'hai')\n",
            "{'send_off': 'bye_bye', 'welcome': 'welcome_all'}\n",
            "send_off:bye_bye\n",
            "welcome:welcome_all\n"
          ],
          "name": "stdout"
        }
      ]
    },
    {
      "cell_type": "code",
      "metadata": {
        "id": "CV0p0zf-dG0q",
        "colab_type": "code",
        "colab": {
          "base_uri": "https://localhost:8080/",
          "height": 54
        },
        "outputId": "1186d70f-668e-4868-a031-19737ed60d98"
      },
      "source": [
        "# general functions arguments can be passed as a positional or keyword arguments\n",
        "def general_fun(a):\n",
        "  print(a)\n",
        "\n",
        "general_fun(1)\n",
        "general_fun(a = 1)\n"
      ],
      "execution_count": null,
      "outputs": [
        {
          "output_type": "stream",
          "text": [
            "1\n",
            "1\n"
          ],
          "name": "stdout"
        }
      ]
    },
    {
      "cell_type": "code",
      "metadata": {
        "id": "hVBjGjwykJDc",
        "colab_type": "code",
        "colab": {
          "base_uri": "https://localhost:8080/",
          "height": 54
        },
        "outputId": "0fd14069-0245-4b89-adc0-953e83188a38"
      },
      "source": [
        "def fun1(x):\n",
        "  return x*x\n",
        "\n",
        "print(fun1(5))\n",
        "\n",
        "# Lambda expresions are the in line functions which are used to write some simple functions\n",
        "fun1 = lambda x: x*x\n",
        "print(fun1(5))"
      ],
      "execution_count": null,
      "outputs": [
        {
          "output_type": "stream",
          "text": [
            "25\n",
            "25\n"
          ],
          "name": "stdout"
        }
      ]
    },
    {
      "cell_type": "code",
      "metadata": {
        "id": "iVvLLJPTlCcK",
        "colab_type": "code",
        "colab": {
          "base_uri": "https://localhost:8080/",
          "height": 35
        },
        "outputId": "54ef7246-64f6-4088-a156-856e46f255af"
      },
      "source": [
        "checker = lambda x: True if x>100 else False\n",
        "checker(99)"
      ],
      "execution_count": null,
      "outputs": [
        {
          "output_type": "execute_result",
          "data": {
            "text/plain": [
              "False"
            ]
          },
          "metadata": {
            "tags": []
          },
          "execution_count": 3
        }
      ]
    },
    {
      "cell_type": "code",
      "metadata": {
        "id": "z4M9IUv5qvyW",
        "colab_type": "code",
        "colab": {}
      },
      "source": [
        ""
      ],
      "execution_count": null,
      "outputs": []
    }
  ]
}