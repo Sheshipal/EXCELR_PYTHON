{
  "nbformat": 4,
  "nbformat_minor": 0,
  "metadata": {
    "colab": {
      "name": "day4.ipynb",
      "provenance": []
    },
    "kernelspec": {
      "name": "python3",
      "display_name": "Python 3"
    }
  },
  "cells": [
    {
      "cell_type": "code",
      "metadata": {
        "id": "kxWNIGx-e7wa",
        "colab_type": "code",
        "colab": {
          "base_uri": "https://localhost:8080/",
          "height": 182
        },
        "outputId": "73b07bab-c775-4cc9-8e6b-0cedca21db4b"
      },
      "source": [
        "# to retrive two sequences together we can use zip\n",
        "list1 = [1,2,3]\n",
        "list2 = [4,5,6]\n",
        "for item in zip(list1,list2):\n",
        "  print(item)\n",
        "\n",
        "questions = ['name', 'quest', 'favorite color']\n",
        "answers = ['lancelot', 'the holy grail', 'blue']\n",
        "for q, a in zip(questions, answers):\n",
        "  print('What is your {0}?  It is {1}.'.format(q, a))\n",
        "\n",
        "# to enumerate a list into a tuple as above we should enumerate\n",
        "for i, v in enumerate(['tic', 'tac', 'toe']):\n",
        "  print(i, v)"
      ],
      "execution_count": null,
      "outputs": [
        {
          "output_type": "stream",
          "text": [
            "(1, 4)\n",
            "(2, 5)\n",
            "(3, 6)\n",
            "What is your name?  It is lancelot.\n",
            "What is your quest?  It is the holy grail.\n",
            "What is your favorite color?  It is blue.\n",
            "0 tic\n",
            "1 tac\n",
            "2 toe\n"
          ],
          "name": "stdout"
        }
      ]
    },
    {
      "cell_type": "markdown",
      "metadata": {
        "id": "XV9pkMgLgy-e",
        "colab_type": "text"
      },
      "source": [
        "Dictionary related methods\n"
      ]
    },
    {
      "cell_type": "code",
      "metadata": {
        "id": "UraYVkZAfhqv",
        "colab_type": "code",
        "colab": {
          "base_uri": "https://localhost:8080/",
          "height": 90
        },
        "outputId": "e26b81d5-b211-49ee-b934-b57f306fb1ea"
      },
      "source": [
        "dict1 = {'hello': 1 ,'hai': 2}\n",
        "print(dict1.get('hello')) # tells whether an item is present in a dict or not\n",
        "print(dict1.pop('hello')) # removes the value corresponding to the key specified\n",
        "print(dict1.popitem()) # pops a random pair from the dict\n",
        "print(dict1)"
      ],
      "execution_count": null,
      "outputs": [
        {
          "output_type": "stream",
          "text": [
            "1\n",
            "1\n",
            "('hai', 2)\n",
            "{}\n"
          ],
          "name": "stdout"
        }
      ]
    },
    {
      "cell_type": "code",
      "metadata": {
        "id": "89UMVGjxhCLx",
        "colab_type": "code",
        "colab": {
          "base_uri": "https://localhost:8080/",
          "height": 146
        },
        "outputId": "a50e93a7-a38a-4ed3-f8bb-f7fabd93199c"
      },
      "source": [
        "# To add dictionaries we should use a different method\n",
        "# here we are unpacking the dictionary '**'\n",
        "dict1 = {'hai' : 1, 'dinnu' : 2}\n",
        "dict2 = {'dinnu' : 3, 'shashi' : 4}\n",
        "final = {**dict1, **dict2}\n",
        "print(final)\n",
        "\n",
        "# another method to add two dictionaries \n",
        "new = {\"50\" : 50, 'hai' : 5}\n",
        "new.update(dict1)\n",
        "print(new)\n",
        "\n",
        "print(\"$$$$$$$$$$\")\n",
        "print(dict1)\n",
        "print(dict2)\n",
        "print(final)\n",
        "print(new)"
      ],
      "execution_count": null,
      "outputs": [
        {
          "output_type": "stream",
          "text": [
            "{'hai': 1, 'dinnu': 3, 'shashi': 4}\n",
            "{'50': 50, 'hai': 1, 'dinnu': 2}\n",
            "$$$$$$$$$$\n",
            "{'hai': 1, 'dinnu': 2}\n",
            "{'dinnu': 3, 'shashi': 4}\n",
            "{'hai': 1, 'dinnu': 3, 'shashi': 4}\n",
            "{'50': 50, 'hai': 1, 'dinnu': 2}\n"
          ],
          "name": "stdout"
        }
      ]
    },
    {
      "cell_type": "markdown",
      "metadata": {
        "id": "kgurka6Tlc0J",
        "colab_type": "text"
      },
      "source": [
        "Adding the elements of two tuple into new tuple"
      ]
    },
    {
      "cell_type": "code",
      "metadata": {
        "id": "fFoexf0qjmqP",
        "colab_type": "code",
        "colab": {
          "base_uri": "https://localhost:8080/",
          "height": 54
        },
        "outputId": "297cf972-c045-4202-b05e-35fb9e49993b"
      },
      "source": [
        "\n",
        "tuple1 = (1,2,3)\n",
        "tuple2 = (4,5,6)\n",
        "final = (*tuple1, *tuple2)\n",
        "print(final)\n",
        "\n",
        "# here we are simply unpacking '*' tuple objects\n",
        "print(*tuple1)\n"
      ],
      "execution_count": null,
      "outputs": [
        {
          "output_type": "stream",
          "text": [
            "(1, 2, 3, 4, 5, 6)\n",
            "1 2 3\n"
          ],
          "name": "stdout"
        }
      ]
    },
    {
      "cell_type": "markdown",
      "metadata": {
        "id": "LnL7b5lJocj3",
        "colab_type": "text"
      },
      "source": [
        "Builtin functions in python\n",
        "\n",
        "print()\n",
        "\n",
        "len()\n",
        "\n",
        "range()\n",
        "\n",
        "type()\n",
        "\n",
        "isinstance()\n",
        "\n",
        "id()\n",
        "\n",
        "sum()\n",
        "\n",
        "max()\n",
        "\n",
        "min()...\n",
        "\n",
        "We can get all the built in functions by typing dir(\\_\\_builtin__)"
      ]
    },
    {
      "cell_type": "code",
      "metadata": {
        "id": "UmSoyIPxlWrF",
        "colab_type": "code",
        "colab": {
          "base_uri": "https://localhost:8080/",
          "height": 54
        },
        "outputId": "b0f76d51-b6c6-4491-90d7-52dcb53286a1"
      },
      "source": [
        "# range functin creates a sequence of values based on start, end, step values provided\n",
        "print(list(range(1,10,2)))\n",
        "print()"
      ],
      "execution_count": null,
      "outputs": [
        {
          "output_type": "stream",
          "text": [
            "[1, 3, 5, 7, 9]\n",
            "\n"
          ],
          "name": "stdout"
        }
      ]
    },
    {
      "cell_type": "code",
      "metadata": {
        "id": "_t6N8-Ivl3W5",
        "colab_type": "code",
        "colab": {
          "base_uri": "https://localhost:8080/",
          "height": 35
        },
        "outputId": "7fd4762a-123b-4999-dbb7-f717e63e0b0a"
      },
      "source": [
        "# it prints the location where the object is stored\n",
        "print(id(dict1))"
      ],
      "execution_count": null,
      "outputs": [
        {
          "output_type": "stream",
          "text": [
            "140284625428840\n"
          ],
          "name": "stdout"
        }
      ]
    },
    {
      "cell_type": "code",
      "metadata": {
        "id": "RiV9sTPpnuGJ",
        "colab_type": "code",
        "colab": {
          "base_uri": "https://localhost:8080/",
          "height": 54
        },
        "outputId": "20bf19c8-9ae9-486a-ec51-459569cbedc5"
      },
      "source": [
        "# 'input' function is used for taking input from keyboard\n",
        "print(input('hello : '))"
      ],
      "execution_count": null,
      "outputs": [
        {
          "output_type": "stream",
          "text": [
            "hello : hai\n",
            "hai\n"
          ],
          "name": "stdout"
        }
      ]
    },
    {
      "cell_type": "code",
      "metadata": {
        "id": "MogBEqBArXC6",
        "colab_type": "code",
        "colab": {
          "base_uri": "https://localhost:8080/",
          "height": 35
        },
        "outputId": "848e0482-fa3b-4eea-9e83-3dda5e6ba52a"
      },
      "source": [
        "# 'isinstance' function is used to find the class to which it belongs to\n",
        "name = 'hello' \n",
        "print(isinstance(name,str))"
      ],
      "execution_count": null,
      "outputs": [
        {
          "output_type": "stream",
          "text": [
            "True\n"
          ],
          "name": "stdout"
        }
      ]
    },
    {
      "cell_type": "code",
      "metadata": {
        "id": "HcLRZamurzch",
        "colab_type": "code",
        "colab": {
          "base_uri": "https://localhost:8080/",
          "height": 90
        },
        "outputId": "db1d42d5-1e81-47bb-e8a3-d843dc0af3f8"
      },
      "source": [
        "list1 = [1,2,3,4]\n",
        "\n",
        "# max and min is used to find max and min of a sequence\n",
        "print(min(list1))\n",
        "print(max(list1))\n",
        "\n",
        "# sum function is used to find the sum of the elements of sequence of same type of objects\n",
        "print(sum(list1))\n",
        "\n",
        "# type function is used to find the type of object\n",
        "print(type(list1))"
      ],
      "execution_count": null,
      "outputs": [
        {
          "output_type": "stream",
          "text": [
            "1\n",
            "4\n",
            "10\n",
            "<class 'list'>\n"
          ],
          "name": "stdout"
        }
      ]
    },
    {
      "cell_type": "markdown",
      "metadata": {
        "id": "EC1LvHSbs9db",
        "colab_type": "text"
      },
      "source": [
        "conditional Statements"
      ]
    },
    {
      "cell_type": "code",
      "metadata": {
        "id": "CVf0PyX2zIk5",
        "colab_type": "code",
        "colab": {
          "base_uri": "https://localhost:8080/",
          "height": 35
        },
        "outputId": "c8b30cf0-ce2b-459c-b280-b9e8d4169ac1"
      },
      "source": [
        "# in if and elif condition we can mention any value which is not None\n",
        "num = 1\n",
        "if(num ==1):\n",
        "  print(\"one\")\n",
        "elif(num == 2):\n",
        "  print('two')\n",
        "else:\n",
        "  print('none')"
      ],
      "execution_count": 47,
      "outputs": [
        {
          "output_type": "stream",
          "text": [
            "one\n"
          ],
          "name": "stdout"
        }
      ]
    },
    {
      "cell_type": "markdown",
      "metadata": {
        "id": "P53g1qLbtQTc",
        "colab_type": "text"
      },
      "source": [
        "Control Statements"
      ]
    },
    {
      "cell_type": "code",
      "metadata": {
        "id": "J5rn-S51zt0K",
        "colab_type": "code",
        "colab": {
          "base_uri": "https://localhost:8080/",
          "height": 90
        },
        "outputId": "7fc693bd-0bf5-41d2-9b43-4427c299f734"
      },
      "source": [
        "print('for loop')\n",
        "for value in range(1,10,1):\n",
        "  print(value, end=' ')\n",
        "\n",
        "print('\\nwhile loop')\n",
        "num = 10\n",
        "while( num>0 ):\n",
        "  print(num, end=' ')\n",
        "  num -= 1"
      ],
      "execution_count": 53,
      "outputs": [
        {
          "output_type": "stream",
          "text": [
            "for loop\n",
            "1 2 3 4 5 6 7 8 9 \n",
            "while loop\n",
            "10 9 8 7 6 5 4 3 2 1 "
          ],
          "name": "stdout"
        }
      ]
    },
    {
      "cell_type": "markdown",
      "metadata": {
        "id": "JA2i-RpetTdW",
        "colab_type": "text"
      },
      "source": [
        "Jump Statements"
      ]
    },
    {
      "cell_type": "code",
      "metadata": {
        "id": "fmE9B8t60LNj",
        "colab_type": "code",
        "colab": {
          "base_uri": "https://localhost:8080/",
          "height": 90
        },
        "outputId": "67dc5763-f42e-434d-c27d-e3cabf99aeaf"
      },
      "source": [
        "num = 0\n",
        "while( num < 10 ):\n",
        "  if(num%2 == 0):\n",
        "    print(num)\n",
        "  elif(num == 7):\n",
        "    break\n",
        "  else:\n",
        "    pass\n",
        "  num += 1"
      ],
      "execution_count": 51,
      "outputs": [
        {
          "output_type": "stream",
          "text": [
            "0\n",
            "2\n",
            "4\n",
            "6\n"
          ],
          "name": "stdout"
        }
      ]
    },
    {
      "cell_type": "code",
      "metadata": {
        "id": "RQGp2aWPscr2",
        "colab_type": "code",
        "colab": {}
      },
      "source": [
        ""
      ],
      "execution_count": null,
      "outputs": []
    }
  ]
}