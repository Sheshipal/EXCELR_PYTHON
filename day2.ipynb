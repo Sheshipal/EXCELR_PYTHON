{
  "nbformat": 4,
  "nbformat_minor": 0,
  "metadata": {
    "colab": {
      "name": "day2.ipynb",
      "provenance": [],
      "collapsed_sections": []
    },
    "kernelspec": {
      "name": "python3",
      "display_name": "Python 3"
    }
  },
  "cells": [
    {
      "cell_type": "markdown",
      "metadata": {
        "id": "BUJmKtQXLiGp",
        "colab_type": "text"
      },
      "source": [
        "Data types\n",
        "\n",
        "1)number\n",
        "2)String\n",
        "3)Boolean"
      ]
    },
    {
      "cell_type": "code",
      "metadata": {
        "id": "EU0odYYtG-C5",
        "colab_type": "code",
        "colab": {
          "base_uri": "https://localhost:8080/",
          "height": 201
        },
        "outputId": "d3bef0a9-63b1-4389-b271-19cb351fc983"
      },
      "source": [
        "a = 10\n",
        "b = 101.22\n",
        "c = 'hello'\n",
        "d = '''\n",
        "  multi line string\n",
        "  hello\n",
        "  my \n",
        "  name\n",
        "  is shashi\n",
        "'''\n",
        "\n",
        "print(a)\n",
        "print(b)\n",
        "print(c)\n",
        "print(d)"
      ],
      "execution_count": null,
      "outputs": [
        {
          "output_type": "stream",
          "text": [
            "10\n",
            "101.22\n",
            "hello\n",
            "\n",
            "  multi line string\n",
            "  hello\n",
            "  my \n",
            "  name\n",
            "  is shashi\n",
            "\n"
          ],
          "name": "stdout"
        }
      ]
    },
    {
      "cell_type": "code",
      "metadata": {
        "id": "GWGZNiaAHsf-",
        "colab_type": "code",
        "colab": {
          "base_uri": "https://localhost:8080/",
          "height": 36
        },
        "outputId": "a87e549f-b4bf-45a0-eb23-d60c4a3a6d52"
      },
      "source": [
        "# single line comment\n",
        "'''\n",
        "  multi line comments\n",
        "  hello\n",
        "  my \n",
        "  name\n",
        "  is shashi\n",
        "'''\n"
      ],
      "execution_count": null,
      "outputs": [
        {
          "output_type": "execute_result",
          "data": {
            "application/vnd.google.colaboratory.intrinsic+json": {
              "type": "string"
            },
            "text/plain": [
              "'\\n  multi line comments\\n  hello\\n  my \\n  name\\n  is shashi\\n'"
            ]
          },
          "metadata": {
            "tags": []
          },
          "execution_count": 6
        }
      ]
    },
    {
      "cell_type": "markdown",
      "metadata": {
        "id": "Tz5uCG44LZVQ",
        "colab_type": "text"
      },
      "source": [
        "Strings\n"
      ]
    },
    {
      "cell_type": "code",
      "metadata": {
        "id": "sXJU_PefIfl0",
        "colab_type": "code",
        "colab": {
          "base_uri": "https://localhost:8080/",
          "height": 72
        },
        "outputId": "2fc257b8-15aa-4187-beb0-829b264ddfa0"
      },
      "source": [
        "string1 = \"hello\"\n",
        "string2 = 'hello'\n",
        "string3 = '''hello'''\n",
        "print(string1)\n",
        "print(string2)\n",
        "print(string3)"
      ],
      "execution_count": null,
      "outputs": [
        {
          "output_type": "stream",
          "text": [
            "hello\n",
            "hello\n",
            "hello\n"
          ],
          "name": "stdout"
        }
      ]
    },
    {
      "cell_type": "code",
      "metadata": {
        "id": "4c-ZlK4NMpYr",
        "colab_type": "code",
        "colab": {
          "base_uri": "https://localhost:8080/",
          "height": 293
        },
        "outputId": "b5d4e744-020c-4c93-b95b-dd1857ecfe1c"
      },
      "source": [
        "# string slicing\n",
        "print('positive indexing :')\n",
        "print(string1[0])\n",
        "print(string1[2])\n",
        "print(string1[0:4])\n",
        "print(string1[0:])\n",
        "print(string1[:3])\n",
        "print(\"negative indexing :\")\n",
        "print(string1[:])\n",
        "print(string1[-1])\n",
        "print(string1[-3:-1])\n",
        "print(\"reverse :\")\n",
        "print(string1[::-1])\n",
        "print(\"jumping :\")\n",
        "print(string1[0:5:2])\n",
        "print(string1[-5:-1:2])\n",
        "\n",
        "# [ start_position : end_position : jump/order ]\n"
      ],
      "execution_count": null,
      "outputs": [
        {
          "output_type": "stream",
          "text": [
            "positive indexing :\n",
            "h\n",
            "l\n",
            "hell\n",
            "hello\n",
            "hel\n",
            "negative indexing :\n",
            "hello\n",
            "o\n",
            "ll\n",
            "reverse :\n",
            "olleh\n",
            "jumping :\n",
            "hlo\n",
            "hl\n"
          ],
          "name": "stdout"
        }
      ]
    },
    {
      "cell_type": "code",
      "metadata": {
        "id": "fG7EFepSNdJl",
        "colab_type": "code",
        "colab": {
          "base_uri": "https://localhost:8080/",
          "height": 35
        },
        "outputId": "39415bbb-3379-4629-98f8-35001908028e"
      },
      "source": [
        "# concatination\n",
        "new_string = string1 + string2\n",
        "print(new_string)"
      ],
      "execution_count": null,
      "outputs": [
        {
          "output_type": "stream",
          "text": [
            "hellohello\n"
          ],
          "name": "stdout"
        }
      ]
    },
    {
      "cell_type": "code",
      "metadata": {
        "id": "dUNGb7t-Ri6Y",
        "colab_type": "code",
        "colab": {
          "base_uri": "https://localhost:8080/",
          "height": 90
        },
        "outputId": "96417038-3922-47e2-8678-25c3a53090d6"
      },
      "source": [
        "# printing escape sequences\n",
        "string = \"c:shashi\\name\"\n",
        "print(string)\n",
        "string = \"c:shashi\\\\name\"\n",
        "print(string)\n",
        "string = r'c:shashi\\name'\n",
        "print(string)"
      ],
      "execution_count": null,
      "outputs": [
        {
          "output_type": "stream",
          "text": [
            "c:shashi\n",
            "ame\n",
            "c:shashi\\name\n",
            "c:shashi\\name\n"
          ],
          "name": "stdout"
        }
      ]
    },
    {
      "cell_type": "code",
      "metadata": {
        "id": "KV55SypCVZ6K",
        "colab_type": "code",
        "colab": {
          "base_uri": "https://localhost:8080/",
          "height": 35
        },
        "outputId": "099fc262-0990-4fea-e31c-fdea293945b0"
      },
      "source": [
        "# multiplication of string with a number\n",
        "string_mul = string1*2 + ' humma'\n",
        "print(string_mul)"
      ],
      "execution_count": null,
      "outputs": [
        {
          "output_type": "stream",
          "text": [
            "hellohello humma\n"
          ],
          "name": "stdout"
        }
      ]
    },
    {
      "cell_type": "markdown",
      "metadata": {
        "id": "HoabH2FEQ2Yq",
        "colab_type": "text"
      },
      "source": [
        "List\n"
      ]
    },
    {
      "cell_type": "code",
      "metadata": {
        "id": "g2Drizd0QCSo",
        "colab_type": "code",
        "colab": {
          "base_uri": "https://localhost:8080/",
          "height": 201
        },
        "outputId": "844115c1-5cfa-41d5-beda-429f55ffd6d6"
      },
      "source": [
        "a = [10,15.2,\"hello\"]\n",
        "b = [15,15.9,\"hai\"]\n",
        "\n",
        "print(a)\n",
        "print(b)\n",
        "\n",
        "# concatination\n",
        "output = a + b\n",
        "print(output)\n",
        "\n",
        "# slicing is also applicable\n",
        "print(a[0])\n",
        "print(b[::-1])\n",
        "print(output[::2])\n",
        "\n",
        "# updating\n",
        "a[0] = \"baby\"\n",
        "print(a)\n",
        "\n",
        "# adding new elements\n",
        "a.append(\"shashi\")\n",
        "print(a)\n",
        "\n",
        "# replacing\n",
        "a[0:2] = [\"sai\", 'dinnu', \"amma\"]\n",
        "print(a)\n",
        "\n",
        "# clearing a list\n",
        "a[:] = []\n",
        "print(a)"
      ],
      "execution_count": null,
      "outputs": [
        {
          "output_type": "stream",
          "text": [
            "[10, 15.2, 'hello']\n",
            "[15, 15.9, 'hai']\n",
            "[10, 15.2, 'hello', 15, 15.9, 'hai']\n",
            "10\n",
            "['hai', 15.9, 15]\n",
            "[10, 'hello', 15.9]\n",
            "['baby', 15.2, 'hello']\n",
            "['baby', 15.2, 'hello', 'shashi']\n",
            "['sai', 'dinnu', 'amma', 'hello', 'shashi']\n",
            "[]\n"
          ],
          "name": "stdout"
        }
      ]
    },
    {
      "cell_type": "code",
      "metadata": {
        "id": "ZoO18k6vUhBB",
        "colab_type": "code",
        "colab": {
          "base_uri": "https://localhost:8080/",
          "height": 35
        },
        "outputId": "f9899a9f-1a93-409d-8ce8-cd5e43d4e815"
      },
      "source": [
        "# length of list\n",
        "print(len(output))\n"
      ],
      "execution_count": null,
      "outputs": [
        {
          "output_type": "stream",
          "text": [
            "6\n"
          ],
          "name": "stdout"
        }
      ]
    },
    {
      "cell_type": "markdown",
      "metadata": {
        "id": "xvGOkIM9UJ1G",
        "colab_type": "text"
      },
      "source": [
        "Tuple\n"
      ]
    },
    {
      "cell_type": "code",
      "metadata": {
        "id": "NVY0j-ryScCw",
        "colab_type": "code",
        "colab": {
          "base_uri": "https://localhost:8080/",
          "height": 35
        },
        "outputId": "74ff414c-d3a0-4cc5-bae9-7e8bf08e6068"
      },
      "source": [
        "tuple1 = (\"hello\", 100, 50.9)\n",
        "print(tuple1)"
      ],
      "execution_count": null,
      "outputs": [
        {
          "output_type": "stream",
          "text": [
            "('hello', 100, 50.9)\n"
          ],
          "name": "stdout"
        }
      ]
    },
    {
      "cell_type": "code",
      "metadata": {
        "id": "ahHCkOqKWwVx",
        "colab_type": "code",
        "colab": {
          "base_uri": "https://localhost:8080/",
          "height": 35
        },
        "outputId": "a6abdd12-fcf7-4013-9ad1-374491cd15de"
      },
      "source": [
        "# the tuple is unmutable\n",
        "# slicing is possible\n",
        "print(tuple1[0])\n",
        "# negative indexing is also possible"
      ],
      "execution_count": null,
      "outputs": [
        {
          "output_type": "stream",
          "text": [
            "hello\n"
          ],
          "name": "stdout"
        }
      ]
    },
    {
      "cell_type": "markdown",
      "metadata": {
        "id": "ddV6ys6eXVhy",
        "colab_type": "text"
      },
      "source": [
        "Dictionary\n"
      ]
    },
    {
      "cell_type": "code",
      "metadata": {
        "id": "bA22NDf4XLBh",
        "colab_type": "code",
        "colab": {
          "base_uri": "https://localhost:8080/",
          "height": 35
        },
        "outputId": "1981a284-7d83-4293-84cd-65681e4dd72e"
      },
      "source": [
        "# dict1 = {keys : values}\n",
        "# keys must be unmutale\n",
        "dict1 = {'hello' : 1, 'hai' : 2}\n",
        "print(dict1)"
      ],
      "execution_count": null,
      "outputs": [
        {
          "output_type": "stream",
          "text": [
            "{'hello': 1, 'hai': 2}\n"
          ],
          "name": "stdout"
        }
      ]
    },
    {
      "cell_type": "code",
      "metadata": {
        "id": "rVH3N186Xkr0",
        "colab_type": "code",
        "colab": {
          "base_uri": "https://localhost:8080/",
          "height": 35
        },
        "outputId": "2d784812-ccc1-44cc-a32a-09a982949438"
      },
      "source": [
        "# elements of a dictionary is accessed using index\n",
        "print(dict1['hello'])"
      ],
      "execution_count": null,
      "outputs": [
        {
          "output_type": "stream",
          "text": [
            "1\n"
          ],
          "name": "stdout"
        }
      ]
    },
    {
      "cell_type": "code",
      "metadata": {
        "id": "0Ci5V89cXy5F",
        "colab_type": "code",
        "colab": {
          "base_uri": "https://localhost:8080/",
          "height": 35
        },
        "outputId": "c81918e7-4fe0-48cc-cb83-d351531cb729"
      },
      "source": [
        "# updating\n",
        "dict1['hello'] = 5\n",
        "\n",
        "# adding\n",
        "dict1['buddy'] = 6\n",
        "\n",
        "# deleting\n",
        "del(dict1['hai'])\n",
        "print(dict1)"
      ],
      "execution_count": null,
      "outputs": [
        {
          "output_type": "stream",
          "text": [
            "{'hello': 5, 'buddy': 6}\n"
          ],
          "name": "stdout"
        }
      ]
    },
    {
      "cell_type": "code",
      "metadata": {
        "id": "hkYM_BSsYEik",
        "colab_type": "code",
        "colab": {}
      },
      "source": [
        ""
      ],
      "execution_count": null,
      "outputs": []
    }
  ]
}