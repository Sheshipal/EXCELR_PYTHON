{
  "nbformat": 4,
  "nbformat_minor": 0,
  "metadata": {
    "colab": {
      "name": "day3.ipynb",
      "provenance": []
    },
    "kernelspec": {
      "name": "python3",
      "display_name": "Python 3"
    }
  },
  "cells": [
    {
      "cell_type": "markdown",
      "metadata": {
        "id": "j4ISEtE-dB-w",
        "colab_type": "text"
      },
      "source": [
        "Dictionary"
      ]
    },
    {
      "cell_type": "code",
      "metadata": {
        "id": "GSakC8hGdHtJ",
        "colab_type": "code",
        "colab": {
          "base_uri": "https://localhost:8080/",
          "height": 35
        },
        "outputId": "abc1499f-53fb-4f1e-a570-3e791a7b1313"
      },
      "source": [
        "dict1 = {'hello' : 1, 'hai' : 2}\n",
        "print(dict1)"
      ],
      "execution_count": null,
      "outputs": [
        {
          "output_type": "stream",
          "text": [
            "{'hello': 1, 'hai': 2}\n"
          ],
          "name": "stdout"
        }
      ]
    },
    {
      "cell_type": "code",
      "metadata": {
        "id": "8FBcvESodIrA",
        "colab_type": "code",
        "colab": {
          "base_uri": "https://localhost:8080/",
          "height": 54
        },
        "outputId": "c6a283f8-9efb-43f3-e728-6e28bf37c430"
      },
      "source": [
        "# if we want to retrive only keys or only values of dictionary \n",
        "print(dict1.keys())\n",
        "print(dict1.values())"
      ],
      "execution_count": null,
      "outputs": [
        {
          "output_type": "stream",
          "text": [
            "dict_keys(['hello', 'hai'])\n",
            "dict_values([1, 2])\n"
          ],
          "name": "stdout"
        }
      ]
    },
    {
      "cell_type": "code",
      "metadata": {
        "id": "4uM1TkqcdVJy",
        "colab_type": "code",
        "colab": {
          "base_uri": "https://localhost:8080/",
          "height": 35
        },
        "outputId": "c36e4bc2-34be-4d0e-e5eb-1dc1cf8894c9"
      },
      "source": [
        "# to convert each key and value pair into a tuple\n",
        "print(dict1.items())"
      ],
      "execution_count": null,
      "outputs": [
        {
          "output_type": "stream",
          "text": [
            "dict_items([('hello', 1), ('hai', 2)])\n"
          ],
          "name": "stdout"
        }
      ]
    },
    {
      "cell_type": "code",
      "metadata": {
        "id": "aEwRDSGPdqJ_",
        "colab_type": "code",
        "colab": {
          "base_uri": "https://localhost:8080/",
          "height": 35
        },
        "outputId": "0d96c111-2fb6-44a6-f8c1-ce8a724aa704"
      },
      "source": [
        "# to take all the keys in arranged order\n",
        "print(sorted(dict1))"
      ],
      "execution_count": null,
      "outputs": [
        {
          "output_type": "stream",
          "text": [
            "['hai', 'hello']\n"
          ],
          "name": "stdout"
        }
      ]
    },
    {
      "cell_type": "markdown",
      "metadata": {
        "id": "jRO84bal4Z_R",
        "colab_type": "text"
      },
      "source": [
        "Dictionary comprehensions is also feasible\n"
      ]
    },
    {
      "cell_type": "code",
      "metadata": {
        "id": "rkAxWjZY4fwn",
        "colab_type": "code",
        "colab": {
          "base_uri": "https://localhost:8080/",
          "height": 90
        },
        "outputId": "de404055-ff04-42fd-a420-52422d620228"
      },
      "source": [
        "dict_compre = {x:x**2 for x in range(0,5)}\n",
        "print(dict_compre)\n",
        "\n",
        "# to group two sequencial object we can use zip\n",
        "for i,j in zip([1,2,3],[4,5,6]):\n",
        "  print(i,j)"
      ],
      "execution_count": null,
      "outputs": [
        {
          "output_type": "stream",
          "text": [
            "{0: 0, 1: 1, 2: 4, 3: 9, 4: 16}\n",
            "1 4\n",
            "2 5\n",
            "3 6\n"
          ],
          "name": "stdout"
        }
      ]
    },
    {
      "cell_type": "markdown",
      "metadata": {
        "id": "pYiu3IfzgLzT",
        "colab_type": "text"
      },
      "source": [
        "Set\n"
      ]
    },
    {
      "cell_type": "code",
      "metadata": {
        "id": "-L2bWBuAe0Nw",
        "colab_type": "code",
        "colab": {
          "base_uri": "https://localhost:8080/",
          "height": 54
        },
        "outputId": "ada99778-a74e-4dee-e6e1-7a8b23158e0f"
      },
      "source": [
        "# it is a collection of unordered, unique elements\n",
        "set1 = { 'hi', 'hello', 'hai', 10, 20, 20.5}\n",
        "set2 = { 'hai', '58', 56, 20, 'hello'}\n",
        "set3 = { 'hai', 20}\n",
        "print(set1)\n",
        "print(set2)"
      ],
      "execution_count": null,
      "outputs": [
        {
          "output_type": "stream",
          "text": [
            "{'hi', 10, 'hello', 20, 20.5, 'hai'}\n",
            "{'58', 20, 'hello', 56, 'hai'}\n"
          ],
          "name": "stdout"
        }
      ]
    },
    {
      "cell_type": "code",
      "metadata": {
        "id": "xXfwvX63gqt_",
        "colab_type": "code",
        "colab": {
          "base_uri": "https://localhost:8080/",
          "height": 90
        },
        "outputId": "b10fac04-2e4c-4022-80a3-87238079982f"
      },
      "source": [
        "# we can perform all the operations of mathematical sets\n",
        "print(set1.intersection(set2))\n",
        "print(set1.union(set2))\n",
        "print(set1.symmetric_difference(set2))\n",
        "print(set1.issubset(set2))"
      ],
      "execution_count": null,
      "outputs": [
        {
          "output_type": "stream",
          "text": [
            "{'hai', 20, 'hello'}\n",
            "{'hi', '58', 10, 'hello', 20, 20.5, 56, 'hai'}\n",
            "{'hi', '58', 20.5, 56, 10}\n",
            "False\n"
          ],
          "name": "stdout"
        }
      ]
    },
    {
      "cell_type": "markdown",
      "metadata": {
        "id": "cnzHXyx536yf",
        "colab_type": "text"
      },
      "source": [
        "Set comprehensions is also supported\n"
      ]
    },
    {
      "cell_type": "code",
      "metadata": {
        "id": "5nVgcKUW3_mJ",
        "colab_type": "code",
        "colab": {
          "base_uri": "https://localhost:8080/",
          "height": 35
        },
        "outputId": "94de7536-1373-4240-9d0d-9ea9b9bd043d"
      },
      "source": [
        "set_compre = {i for i in [1,1,1,2,3,4,5,5,6,6]}\n",
        "print(set_compre)"
      ],
      "execution_count": null,
      "outputs": [
        {
          "output_type": "stream",
          "text": [
            "{1, 2, 3, 4, 5, 6}\n"
          ],
          "name": "stdout"
        }
      ]
    },
    {
      "cell_type": "markdown",
      "metadata": {
        "id": "gZKj8FgVvYp7",
        "colab_type": "text"
      },
      "source": [
        "String methods\n"
      ]
    },
    {
      "cell_type": "code",
      "metadata": {
        "id": "Eg5mNJbIhX-T",
        "colab_type": "code",
        "colab": {
          "base_uri": "https://localhost:8080/",
          "height": 311
        },
        "outputId": "87ee504f-1974-4b0c-f59c-515c0e59a33b"
      },
      "source": [
        "# some methods related to string\n",
        "name = 'python programming'\n",
        "print(name.swapcase())\n",
        "print(name.upper())\n",
        "print(name.capitalize())\n",
        "print(name.title())\n",
        "print(name.replace('python','ruby'))\n",
        "print(name.endswith('g'))\n",
        "print(name.startswith('r'))\n",
        "print(name.split(' '))\n",
        "print(name.center(70,'*'))\n",
        "print(name.strip('g'))\n",
        "print(\"hello {0} i am dinnu\".format('shashi'))\n",
        "print(\"hello\".isalpha())\n",
        "print(\"1235\".isnumeric())\n",
        "print('546'.isdigit())\n",
        "print('hello156'.isalnum())\n",
        "print('_'.join(name))"
      ],
      "execution_count": null,
      "outputs": [
        {
          "output_type": "stream",
          "text": [
            "PYTHON PROGRAMMING\n",
            "PYTHON PROGRAMMING\n",
            "Python programming\n",
            "Python Programming\n",
            "ruby programming\n",
            "True\n",
            "False\n",
            "['python', 'programming']\n",
            "**************************python programming**************************\n",
            "python programmin\n",
            "hello shashi i am dinnu\n",
            "True\n",
            "True\n",
            "True\n",
            "True\n",
            "p_y_t_h_o_n_ _p_r_o_g_r_a_m_m_i_n_g\n"
          ],
          "name": "stdout"
        }
      ]
    },
    {
      "cell_type": "markdown",
      "metadata": {
        "id": "kH7u2mb2vVi7",
        "colab_type": "text"
      },
      "source": [
        "List Methods"
      ]
    },
    {
      "cell_type": "code",
      "metadata": {
        "id": "fWTF-l73ruvV",
        "colab_type": "code",
        "colab": {
          "base_uri": "https://localhost:8080/",
          "height": 201
        },
        "outputId": "70128c42-314b-4aca-ec05-0714facc1173"
      },
      "source": [
        "list1 = ['hello', 150, 50.6, True]\n",
        "list1.append('last')\n",
        "print(list1)\n",
        "list1.extend('hai')\n",
        "list1.extend(['59', 489])\n",
        "print(list1)\n",
        "list1.insert(5,'buddy')\n",
        "print(list1)\n",
        "list1.pop()\n",
        "print(list1)\n",
        "print(list1.count('hello'))\n",
        "print(list1.index('hello'))\n",
        "list1.reverse()\n",
        "print(list1)\n",
        "print(list1.copy())\n",
        "list1.clear()\n",
        "print(list1)\n",
        "\n",
        "# we can also use sort method on list object but\n",
        "# the list object should consists similar type of elements\n",
        "# list can be used as queues and stack\n",
        "\n",
        "list1 = ['hello', 150, 50.6, True]\n",
        "list1.pop()\n",
        "print(list1)"
      ],
      "execution_count": null,
      "outputs": [
        {
          "output_type": "stream",
          "text": [
            "['hello', 150, 50.6, True, 'last']\n",
            "['hello', 150, 50.6, True, 'last', 'h', 'a', 'i', '59', 489]\n",
            "['hello', 150, 50.6, True, 'last', 'buddy', 'h', 'a', 'i', '59', 489]\n",
            "['hello', 150, 50.6, True, 'last', 'buddy', 'h', 'a', 'i', '59']\n",
            "1\n",
            "0\n",
            "['59', 'i', 'a', 'h', 'buddy', 'last', True, 50.6, 150, 'hello']\n",
            "['59', 'i', 'a', 'h', 'buddy', 'last', True, 50.6, 150, 'hello']\n",
            "[]\n",
            "['hello', 150, 50.6]\n"
          ],
          "name": "stdout"
        }
      ]
    },
    {
      "cell_type": "markdown",
      "metadata": {
        "id": "8L-qzapUzjJh",
        "colab_type": "text"
      },
      "source": [
        "List Comprehensions & Nested List Comprensions"
      ]
    },
    {
      "cell_type": "code",
      "metadata": {
        "id": "pJAgy7kFvxIu",
        "colab_type": "code",
        "colab": {
          "base_uri": "https://localhost:8080/",
          "height": 90
        },
        "outputId": "d931a550-1f62-4865-b419-af53622401e9"
      },
      "source": [
        "a = [i for i in range(0,10)]\n",
        "b = [(x, y) for x in [1,2,3] for y in [3,1,4]]\n",
        "c = [x for x in range(0,10) if x%2==0]\n",
        "d = [x if x%2==0 else 0 for x in range(0,10)]\n",
        "print(a)\n",
        "print(b)\n",
        "print(c)\n",
        "print(d)"
      ],
      "execution_count": null,
      "outputs": [
        {
          "output_type": "stream",
          "text": [
            "[0, 1, 2, 3, 4, 5, 6, 7, 8, 9]\n",
            "[(1, 3), (1, 1), (1, 4), (2, 3), (2, 1), (2, 4), (3, 3), (3, 1), (3, 4)]\n",
            "[0, 2, 4, 6, 8]\n",
            "[0, 0, 2, 0, 4, 0, 6, 0, 8, 0]\n"
          ],
          "name": "stdout"
        }
      ]
    },
    {
      "cell_type": "markdown",
      "metadata": {
        "id": "xZuEVB243VYh",
        "colab_type": "text"
      },
      "source": [
        "Problem of tuples with single elements\n"
      ]
    },
    {
      "cell_type": "code",
      "metadata": {
        "id": "FkTkda1-0akG",
        "colab_type": "code",
        "colab": {
          "base_uri": "https://localhost:8080/",
          "height": 54
        },
        "outputId": "95cde660-34b0-4c83-ba5d-a2d1ad2e51e0"
      },
      "source": [
        "tuple1 = ('hello')\n",
        "print(type(tuple1))\n",
        "\n",
        "# for creating tuples with single elements first element should be followed by ','\n",
        "tuple2 = ('hai',)\n",
        "print(type(tuple2))\n"
      ],
      "execution_count": null,
      "outputs": [
        {
          "output_type": "stream",
          "text": [
            "<class 'str'>\n",
            "<class 'tuple'>\n"
          ],
          "name": "stdout"
        }
      ]
    }
  ]
}