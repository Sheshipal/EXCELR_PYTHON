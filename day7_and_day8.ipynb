{
  "nbformat": 4,
  "nbformat_minor": 0,
  "metadata": {
    "colab": {
      "name": "day7 and day8.ipynb",
      "provenance": [],
      "collapsed_sections": []
    },
    "kernelspec": {
      "name": "python3",
      "display_name": "Python 3"
    }
  },
  "cells": [
    {
      "cell_type": "markdown",
      "metadata": {
        "id": "FPUQFd6iQxpz",
        "colab_type": "text"
      },
      "source": [
        "Exception Handling\n",
        "\n",
        "1)Syntax Error\n",
        "\n",
        "2)Semantic Error or Runtime Error\n"
      ]
    },
    {
      "cell_type": "markdown",
      "metadata": {
        "id": "RLQklbWTRJL0",
        "colab_type": "text"
      },
      "source": [
        "Try (mandatory)\n",
        "\n",
        "Except(mandatory)\n",
        "\n",
        "else(optional)\n",
        "\n",
        "finally(optional)\n",
        "\n",
        "raise(optional)"
      ]
    },
    {
      "cell_type": "code",
      "metadata": {
        "id": "tNSiKnM4Quf_",
        "colab_type": "code",
        "colab": {
          "base_uri": "https://localhost:8080/",
          "height": 54
        },
        "outputId": "0b6d23da-c087-427b-b816-5094e7a283c7"
      },
      "source": [
        "a = [10,10,10]\n",
        "\n",
        "try:\n",
        "  print(a[10])\n",
        "#except block will be executed when a runtime error is raised\n",
        "except Exception as err:\n",
        "  print('out of index')\n",
        "  print(err)"
      ],
      "execution_count": null,
      "outputs": [
        {
          "output_type": "stream",
          "text": [
            "out of index\n",
            "list index out of range\n"
          ],
          "name": "stdout"
        }
      ]
    },
    {
      "cell_type": "code",
      "metadata": {
        "id": "qsgIEVfMUwMr",
        "colab_type": "code",
        "colab": {
          "base_uri": "https://localhost:8080/",
          "height": 54
        },
        "outputId": "c1a9d8d5-d207-42cc-9a9a-2ba634c3918b"
      },
      "source": [
        "try:\n",
        "  print(a[10])\n",
        "# we can mention as many as errors as want but they should be in incrasing order of the inheritence.\n",
        "except IndexError as ie:\n",
        "  print('out of index')\n",
        "  print(ie)\n",
        "# Exception is the parent class for all the Error classes \n",
        "except Exception as err:\n",
        "  print('error occured')\n",
        "  print(err)"
      ],
      "execution_count": null,
      "outputs": [
        {
          "output_type": "stream",
          "text": [
            "out of index\n",
            "list index out of range\n"
          ],
          "name": "stdout"
        }
      ]
    },
    {
      "cell_type": "code",
      "metadata": {
        "id": "w7kGlOx2Vx1_",
        "colab_type": "code",
        "colab": {
          "base_uri": "https://localhost:8080/",
          "height": 54
        },
        "outputId": "6df92a7e-7bf9-4c2a-9413-838388cb0acc"
      },
      "source": [
        "try:\n",
        "  print(a[10])\n",
        "# we can mention as many as errors as want but they should be in incrasing order of the inheritence.\n",
        "# we can write multiple errors in a single except block \n",
        "except IndexError or TypeError as e:\n",
        "  print('out of index')\n",
        "  print(e)\n",
        "# Exception is the parent class for all the Error classes \n",
        "except Exception as err:\n",
        "  print('error occured')\n",
        "  print(err)"
      ],
      "execution_count": null,
      "outputs": [
        {
          "output_type": "stream",
          "text": [
            "out of index\n",
            "list index out of range\n"
          ],
          "name": "stdout"
        }
      ]
    },
    {
      "cell_type": "code",
      "metadata": {
        "id": "7WwUYKG-SYjQ",
        "colab_type": "code",
        "colab": {
          "base_uri": "https://localhost:8080/",
          "height": 54
        },
        "outputId": "17d526fa-c073-4d86-bfa6-e9577c0b8e27"
      },
      "source": [
        "\n",
        "try:\n",
        "  print(a[1])\n",
        "except Exception as err:\n",
        "  print('out of index')\n",
        "  print(err)\n",
        "# else block will be executed when any exception is not raised\n",
        "else:\n",
        "  print('hello')"
      ],
      "execution_count": null,
      "outputs": [
        {
          "output_type": "stream",
          "text": [
            "10\n",
            "hello\n"
          ],
          "name": "stdout"
        }
      ]
    },
    {
      "cell_type": "code",
      "metadata": {
        "id": "YNcUeeb7XOOK",
        "colab_type": "code",
        "colab": {
          "base_uri": "https://localhost:8080/",
          "height": 219
        },
        "outputId": "1baddcab-0775-4070-a327-49d27bde1d29"
      },
      "source": [
        "try:\n",
        "  print(a[10])\n",
        "except Exception as err:\n",
        "  print('out of index')\n",
        "  print(err)\n",
        "# else block will be executed when any exception is not raised\n",
        "else:\n",
        "  print('hello')\n",
        "# all the code after try except block will be executed when the excetption raised is handeled properly\n",
        "# else the execution will be stoped suddenly\n",
        "print(\"\"\"\n",
        "      HAI\n",
        "      HELLO\n",
        "      BUDDY\n",
        "      \"\"\")\n",
        "print(\"\"\"\n",
        "      hey\n",
        "      bro\n",
        "      \"\"\")"
      ],
      "execution_count": null,
      "outputs": [
        {
          "output_type": "stream",
          "text": [
            "out of index\n",
            "list index out of range\n",
            "\n",
            "      HAI\n",
            "      HELLO\n",
            "      BUDDY\n",
            "      \n",
            "\n",
            "      hey\n",
            "      bro\n",
            "      \n"
          ],
          "name": "stdout"
        }
      ]
    },
    {
      "cell_type": "code",
      "metadata": {
        "id": "ICwB40ZNYEel",
        "colab_type": "code",
        "colab": {
          "base_uri": "https://localhost:8080/",
          "height": 35
        },
        "outputId": "0bf3d84a-7f5e-42e2-cba3-7ee4c8d273ec"
      },
      "source": [
        "# we can raise our own exception if we want with the help of 'raise' keyword\n",
        "val1 = 1\n",
        "val2 = 2\n",
        "try:\n",
        "  if val1 != val2:\n",
        "    raise(Exception('not equal'))\n",
        "except Exception as e:\n",
        "  print(e)"
      ],
      "execution_count": null,
      "outputs": [
        {
          "output_type": "stream",
          "text": [
            "not equal\n"
          ],
          "name": "stdout"
        }
      ]
    },
    {
      "cell_type": "code",
      "metadata": {
        "id": "Po0C6LwgYoyg",
        "colab_type": "code",
        "colab": {
          "base_uri": "https://localhost:8080/",
          "height": 54
        },
        "outputId": "db6f7ec7-670f-4ddd-e5e9-eb64d024370c"
      },
      "source": [
        "# we can execute a block of code irrespective of the errors we can execute it with the help of 'finally'\n",
        "val1 = 1\n",
        "val2 = 2\n",
        "try:\n",
        "  if val1 != val2:\n",
        "    raise(Exception('not equal'))\n",
        "except Exception as e:\n",
        "  print(e)\n",
        "finally:\n",
        "  print('finally  block')"
      ],
      "execution_count": null,
      "outputs": [
        {
          "output_type": "stream",
          "text": [
            "not equal\n",
            "finally  block\n"
          ],
          "name": "stdout"
        }
      ]
    },
    {
      "cell_type": "markdown",
      "metadata": {
        "id": "PIKX9hW3alMj",
        "colab_type": "text"
      },
      "source": [
        "Libraries\n",
        "\n",
        "1)builtin \n",
        "\n",
        "2)third party"
      ]
    },
    {
      "cell_type": "code",
      "metadata": {
        "id": "alwNn5zedIve",
        "colab_type": "code",
        "colab": {
          "base_uri": "https://localhost:8080/",
          "height": 1000
        },
        "outputId": "41d368a2-89c6-470d-cd0e-02a482aa58a0"
      },
      "source": [
        "############# math ##############\n",
        "# 'math' is a builtin library for mathematical calculations\n",
        "\n",
        "import math \n",
        "print(math.pi)\n",
        "print(math.sin(math.pi/2))\n",
        "print(math.floor(35.26))\n",
        "help(math)"
      ],
      "execution_count": null,
      "outputs": [
        {
          "output_type": "stream",
          "text": [
            "3.141592653589793\n",
            "1.0\n",
            "35\n",
            "Help on built-in module math:\n",
            "\n",
            "NAME\n",
            "    math\n",
            "\n",
            "DESCRIPTION\n",
            "    This module is always available.  It provides access to the\n",
            "    mathematical functions defined by the C standard.\n",
            "\n",
            "FUNCTIONS\n",
            "    acos(...)\n",
            "        acos(x)\n",
            "        \n",
            "        Return the arc cosine (measured in radians) of x.\n",
            "    \n",
            "    acosh(...)\n",
            "        acosh(x)\n",
            "        \n",
            "        Return the inverse hyperbolic cosine of x.\n",
            "    \n",
            "    asin(...)\n",
            "        asin(x)\n",
            "        \n",
            "        Return the arc sine (measured in radians) of x.\n",
            "    \n",
            "    asinh(...)\n",
            "        asinh(x)\n",
            "        \n",
            "        Return the inverse hyperbolic sine of x.\n",
            "    \n",
            "    atan(...)\n",
            "        atan(x)\n",
            "        \n",
            "        Return the arc tangent (measured in radians) of x.\n",
            "    \n",
            "    atan2(...)\n",
            "        atan2(y, x)\n",
            "        \n",
            "        Return the arc tangent (measured in radians) of y/x.\n",
            "        Unlike atan(y/x), the signs of both x and y are considered.\n",
            "    \n",
            "    atanh(...)\n",
            "        atanh(x)\n",
            "        \n",
            "        Return the inverse hyperbolic tangent of x.\n",
            "    \n",
            "    ceil(...)\n",
            "        ceil(x)\n",
            "        \n",
            "        Return the ceiling of x as an Integral.\n",
            "        This is the smallest integer >= x.\n",
            "    \n",
            "    copysign(...)\n",
            "        copysign(x, y)\n",
            "        \n",
            "        Return a float with the magnitude (absolute value) of x but the sign \n",
            "        of y. On platforms that support signed zeros, copysign(1.0, -0.0) \n",
            "        returns -1.0.\n",
            "    \n",
            "    cos(...)\n",
            "        cos(x)\n",
            "        \n",
            "        Return the cosine of x (measured in radians).\n",
            "    \n",
            "    cosh(...)\n",
            "        cosh(x)\n",
            "        \n",
            "        Return the hyperbolic cosine of x.\n",
            "    \n",
            "    degrees(...)\n",
            "        degrees(x)\n",
            "        \n",
            "        Convert angle x from radians to degrees.\n",
            "    \n",
            "    erf(...)\n",
            "        erf(x)\n",
            "        \n",
            "        Error function at x.\n",
            "    \n",
            "    erfc(...)\n",
            "        erfc(x)\n",
            "        \n",
            "        Complementary error function at x.\n",
            "    \n",
            "    exp(...)\n",
            "        exp(x)\n",
            "        \n",
            "        Return e raised to the power of x.\n",
            "    \n",
            "    expm1(...)\n",
            "        expm1(x)\n",
            "        \n",
            "        Return exp(x)-1.\n",
            "        This function avoids the loss of precision involved in the direct evaluation of exp(x)-1 for small x.\n",
            "    \n",
            "    fabs(...)\n",
            "        fabs(x)\n",
            "        \n",
            "        Return the absolute value of the float x.\n",
            "    \n",
            "    factorial(...)\n",
            "        factorial(x) -> Integral\n",
            "        \n",
            "        Find x!. Raise a ValueError if x is negative or non-integral.\n",
            "    \n",
            "    floor(...)\n",
            "        floor(x)\n",
            "        \n",
            "        Return the floor of x as an Integral.\n",
            "        This is the largest integer <= x.\n",
            "    \n",
            "    fmod(...)\n",
            "        fmod(x, y)\n",
            "        \n",
            "        Return fmod(x, y), according to platform C.  x % y may differ.\n",
            "    \n",
            "    frexp(...)\n",
            "        frexp(x)\n",
            "        \n",
            "        Return the mantissa and exponent of x, as pair (m, e).\n",
            "        m is a float and e is an int, such that x = m * 2.**e.\n",
            "        If x is 0, m and e are both 0.  Else 0.5 <= abs(m) < 1.0.\n",
            "    \n",
            "    fsum(...)\n",
            "        fsum(iterable)\n",
            "        \n",
            "        Return an accurate floating point sum of values in the iterable.\n",
            "        Assumes IEEE-754 floating point arithmetic.\n",
            "    \n",
            "    gamma(...)\n",
            "        gamma(x)\n",
            "        \n",
            "        Gamma function at x.\n",
            "    \n",
            "    gcd(...)\n",
            "        gcd(x, y) -> int\n",
            "        greatest common divisor of x and y\n",
            "    \n",
            "    hypot(...)\n",
            "        hypot(x, y)\n",
            "        \n",
            "        Return the Euclidean distance, sqrt(x*x + y*y).\n",
            "    \n",
            "    isclose(...)\n",
            "        isclose(a, b, *, rel_tol=1e-09, abs_tol=0.0) -> bool\n",
            "        \n",
            "        Determine whether two floating point numbers are close in value.\n",
            "        \n",
            "           rel_tol\n",
            "               maximum difference for being considered \"close\", relative to the\n",
            "               magnitude of the input values\n",
            "            abs_tol\n",
            "               maximum difference for being considered \"close\", regardless of the\n",
            "               magnitude of the input values\n",
            "        \n",
            "        Return True if a is close in value to b, and False otherwise.\n",
            "        \n",
            "        For the values to be considered close, the difference between them\n",
            "        must be smaller than at least one of the tolerances.\n",
            "        \n",
            "        -inf, inf and NaN behave similarly to the IEEE 754 Standard.  That\n",
            "        is, NaN is not close to anything, even itself.  inf and -inf are\n",
            "        only close to themselves.\n",
            "    \n",
            "    isfinite(...)\n",
            "        isfinite(x) -> bool\n",
            "        \n",
            "        Return True if x is neither an infinity nor a NaN, and False otherwise.\n",
            "    \n",
            "    isinf(...)\n",
            "        isinf(x) -> bool\n",
            "        \n",
            "        Return True if x is a positive or negative infinity, and False otherwise.\n",
            "    \n",
            "    isnan(...)\n",
            "        isnan(x) -> bool\n",
            "        \n",
            "        Return True if x is a NaN (not a number), and False otherwise.\n",
            "    \n",
            "    ldexp(...)\n",
            "        ldexp(x, i)\n",
            "        \n",
            "        Return x * (2**i).\n",
            "    \n",
            "    lgamma(...)\n",
            "        lgamma(x)\n",
            "        \n",
            "        Natural logarithm of absolute value of Gamma function at x.\n",
            "    \n",
            "    log(...)\n",
            "        log(x[, base])\n",
            "        \n",
            "        Return the logarithm of x to the given base.\n",
            "        If the base not specified, returns the natural logarithm (base e) of x.\n",
            "    \n",
            "    log10(...)\n",
            "        log10(x)\n",
            "        \n",
            "        Return the base 10 logarithm of x.\n",
            "    \n",
            "    log1p(...)\n",
            "        log1p(x)\n",
            "        \n",
            "        Return the natural logarithm of 1+x (base e).\n",
            "        The result is computed in a way which is accurate for x near zero.\n",
            "    \n",
            "    log2(...)\n",
            "        log2(x)\n",
            "        \n",
            "        Return the base 2 logarithm of x.\n",
            "    \n",
            "    modf(...)\n",
            "        modf(x)\n",
            "        \n",
            "        Return the fractional and integer parts of x.  Both results carry the sign\n",
            "        of x and are floats.\n",
            "    \n",
            "    pow(...)\n",
            "        pow(x, y)\n",
            "        \n",
            "        Return x**y (x to the power of y).\n",
            "    \n",
            "    radians(...)\n",
            "        radians(x)\n",
            "        \n",
            "        Convert angle x from degrees to radians.\n",
            "    \n",
            "    sin(...)\n",
            "        sin(x)\n",
            "        \n",
            "        Return the sine of x (measured in radians).\n",
            "    \n",
            "    sinh(...)\n",
            "        sinh(x)\n",
            "        \n",
            "        Return the hyperbolic sine of x.\n",
            "    \n",
            "    sqrt(...)\n",
            "        sqrt(x)\n",
            "        \n",
            "        Return the square root of x.\n",
            "    \n",
            "    tan(...)\n",
            "        tan(x)\n",
            "        \n",
            "        Return the tangent of x (measured in radians).\n",
            "    \n",
            "    tanh(...)\n",
            "        tanh(x)\n",
            "        \n",
            "        Return the hyperbolic tangent of x.\n",
            "    \n",
            "    trunc(...)\n",
            "        trunc(x:Real) -> Integral\n",
            "        \n",
            "        Truncates x to the nearest Integral toward 0. Uses the __trunc__ magic method.\n",
            "\n",
            "DATA\n",
            "    e = 2.718281828459045\n",
            "    inf = inf\n",
            "    nan = nan\n",
            "    pi = 3.141592653589793\n",
            "    tau = 6.283185307179586\n",
            "\n",
            "FILE\n",
            "    (built-in)\n",
            "\n",
            "\n"
          ],
          "name": "stdout"
        }
      ]
    },
    {
      "cell_type": "code",
      "metadata": {
        "id": "P9DZMQncZYPG",
        "colab_type": "code",
        "colab": {
          "base_uri": "https://localhost:8080/",
          "height": 72
        },
        "outputId": "ee90d45a-3909-4324-8d3e-99e0bd4263cf"
      },
      "source": [
        "############# os ################\n",
        "# 'os' builtin library for interacting with operating system\n",
        "import os\n",
        "\n",
        "os.mkdir('bro4')\n",
        "print(os.listdir())\n",
        "os.rmdir('bro1')\n",
        "print(os.listdir())\n",
        "print(os.getcwd())\n"
      ],
      "execution_count": null,
      "outputs": [
        {
          "output_type": "stream",
          "text": [
            "['.config', 'bro4', 'bro2', 'bro3', 'bro1', 'bro', 'sample_data']\n",
            "['.config', 'bro4', 'bro2', 'bro3', 'bro', 'sample_data']\n",
            "/content\n"
          ],
          "name": "stdout"
        }
      ]
    },
    {
      "cell_type": "code",
      "metadata": {
        "id": "VPpo7vbtcfTs",
        "colab_type": "code",
        "colab": {
          "base_uri": "https://localhost:8080/",
          "height": 495
        },
        "outputId": "76fbaf24-b11b-46f6-ad3b-3294d63cddb9"
      },
      "source": [
        "os.getcwd()\n",
        "os.chdir('..')\n",
        "os.getcwd()\n",
        "os.listdir()"
      ],
      "execution_count": null,
      "outputs": [
        {
          "output_type": "execute_result",
          "data": {
            "text/plain": [
              "['bin',\n",
              " 'opt',\n",
              " 'etc',\n",
              " 'home',\n",
              " 'media',\n",
              " 'mnt',\n",
              " 'run',\n",
              " 'boot',\n",
              " 'sys',\n",
              " 'proc',\n",
              " 'lib',\n",
              " 'srv',\n",
              " 'dev',\n",
              " 'lib64',\n",
              " 'root',\n",
              " 'var',\n",
              " 'usr',\n",
              " 'tmp',\n",
              " 'sbin',\n",
              " 'content',\n",
              " '.dockerenv',\n",
              " 'tools',\n",
              " 'datalab',\n",
              " 'swift',\n",
              " 'tensorflow-1.15.2',\n",
              " 'lib32']"
            ]
          },
          "metadata": {
            "tags": []
          },
          "execution_count": 14
        }
      ]
    },
    {
      "cell_type": "code",
      "metadata": {
        "id": "4lFJRbFvc2mr",
        "colab_type": "code",
        "colab": {}
      },
      "source": [
        "os.chdir('/content/sample_data/')\n",
        "os.getcwd()\n",
        "files = os.listdir()\n",
        "for file in files:\n",
        "  print(file)\n",
        "  print(os.path.split(file))\n",
        "  print(os.path.splitext(file))"
      ],
      "execution_count": null,
      "outputs": []
    },
    {
      "cell_type": "code",
      "metadata": {
        "id": "eKim7N03emYH",
        "colab_type": "code",
        "colab": {}
      },
      "source": [
        "import shutil\n",
        "# shutil.move('/content/sample_data/california_housing_test.csv','/content/bro4')\n",
        "shutil.copyfile('/content/sample_data/california_housing_train.csv','/content/bro/')"
      ],
      "execution_count": null,
      "outputs": []
    },
    {
      "cell_type": "code",
      "metadata": {
        "id": "Y2GT6b2Pgz4H",
        "colab_type": "code",
        "colab": {
          "base_uri": "https://localhost:8080/",
          "height": 54
        },
        "outputId": "97e57667-298f-4a5b-de33-5d4f4dbe8a9c"
      },
      "source": [
        "print(os.path.isfile('/content/sample_data/california_housing_test.csv'))\n",
        "print(os.path.isdir('/content/bro4'))"
      ],
      "execution_count": null,
      "outputs": [
        {
          "output_type": "stream",
          "text": [
            "True\n",
            "True\n"
          ],
          "name": "stdout"
        }
      ]
    },
    {
      "cell_type": "code",
      "metadata": {
        "id": "yxDTb4Wpin6W",
        "colab_type": "code",
        "colab": {}
      },
      "source": [
        ""
      ],
      "execution_count": null,
      "outputs": []
    }
  ]
}